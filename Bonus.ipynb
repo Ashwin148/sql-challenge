{
 "cells": [
  {
   "cell_type": "code",
   "execution_count": 40,
   "metadata": {},
   "outputs": [
    {
     "name": "stdout",
     "output_type": "stream",
     "text": [
      "  dept_no           dept_name\n",
      "0    d001           Marketing\n",
      "1    d002             Finance\n",
      "2    d003     Human Resources\n",
      "3    d004          Production\n",
      "4    d005         Development\n",
      "5    d006  Quality Management\n",
      "6    d007               Sales\n",
      "7    d008            Research\n",
      "8    d009    Customer Service\n"
     ]
    }
   ],
   "source": [
    "import psycopg2 as pg\n",
    "import pandas.io.sql as psql\n",
    "import pandas as pd\n",
    "import matplotlib.pyplot as plt\n",
    "from config import password\n",
    "from sqlalchemy import create_engine\n",
    " \n",
    "# get connected to the database\n",
    "connection = pg.connect(\"host=localhost dbname=SQL_Hw user=postgres password=\"+password)\n",
    " \n",
    "emp_sql = pd.read_sql_query('select * from employees',con=connection)\n",
    "dep_sql = pd.read_sql_query('select * from departments',con=connection)\n",
    "print(dep_sql)\n",
    "\n"
   ]
  },
  {
   "cell_type": "code",
   "execution_count": 38,
   "metadata": {},
   "outputs": [],
   "source": [
    "emp_df = pd.DataFrame(emp_sql)\n",
    "dep_df = pd.DataFrame(dep_sql)\n"
   ]
  },
  {
   "cell_type": "code",
   "execution_count": 44,
   "metadata": {},
   "outputs": [
    {
     "data": {
      "text/plain": [
       "<matplotlib.axes._subplots.AxesSubplot at 0x225ada01da0>"
      ]
     },
     "execution_count": 44,
     "metadata": {},
     "output_type": "execute_result"
    },
    {
     "data": {
      "image/png": "[encoded data removed]",
      "text/plain": [
       "<Figure size 432x288 with 1 Axes>"
      ]
     },
     "metadata": {
      "needs_background": "light"
     },
     "output_type": "display_data"
    }
   ],
   "source": [
    "query='SELECT titles.title, AVG(salaries.salary) AS avgsal FROM titles JOIN salaries ON titles.emp_no = salaries.emp_no GROUP BY titles.title'\n",
    "avgsal_df=pd.read_sql_query(query,connection)\n",
    "barchart= df.plot.bar(x='title',y='avgsal')\n",
    "plt.savefig(\"bonus_avgsal.png\",bbox_inches=\"tight\")\n"
   ]
  },
  {
   "cell_type": "code",
   "execution_count": null,
   "metadata": {},
   "outputs": [],
   "source": [
    "connection.close()"
   ]
  }
 ],
 "metadata": {
  "kernelspec": {
   "display_name": "Python [conda env:PandaSpace] *",
   "language": "python",
   "name": "conda-env-PandaSpace-py"
  },
  "language_info": {
   "codemirror_mode": {
    "name": "ipython",
    "version": 3
   },
   "file_extension": ".py",
   "mimetype": "text/x-python",
   "name": "python",
   "nbconvert_exporter": "python",
   "pygments_lexer": "ipython3",
   "version": "3.6.9"
  }
 },
 "nbformat": 4,
 "nbformat_minor": 2
}
